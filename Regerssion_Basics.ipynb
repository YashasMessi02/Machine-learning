{
  "nbformat": 4,
  "nbformat_minor": 0,
  "metadata": {
    "colab": {
      "name": "Regerssion Basics.ipynb",
      "provenance": [],
      "authorship_tag": "ABX9TyPt8jZsp9Qq9psu7ZML3qQ7",
      "include_colab_link": true
    },
    "kernelspec": {
      "name": "python3",
      "display_name": "Python 3"
    }
  },
  "cells": [
    {
      "cell_type": "markdown",
      "metadata": {
        "id": "view-in-github",
        "colab_type": "text"
      },
      "source": [
        "<a href=\"https://colab.research.google.com/github/YashasMessi02/Machine-learning/blob/master/Regerssion_Basics.ipynb\" target=\"_parent\"><img src=\"https://colab.research.google.com/assets/colab-badge.svg\" alt=\"Open In Colab\"/></a>"
      ]
    },
    {
      "cell_type": "markdown",
      "metadata": {
        "id": "jRbxcdWxVQfs",
        "colab_type": "text"
      },
      "source": [
        "*Copyright © YashasMessi02*"
      ]
    },
    {
      "cell_type": "markdown",
      "metadata": {
        "id": "HrdmdGM-LAT2",
        "colab_type": "text"
      },
      "source": [
        "#**Logistic Regression Model**\n",
        "![Perceptron](https://github.com/msiddalingaiah/MachineLearning/raw/ec817d3a9e53c764181233e991732017db37d9a1/Regression/images/perceptron75.png)\n",
        "\n",
        "The Inputs are the datasets that we use for creating a Regression Model. But most of the time the data sets we provide don't tend give the maximum accuracy that we expect. So our data needs some **manipulation** . And that's where the weights and biases come into picture. We usually multiply **weights** to the input datasets and finally a **Bias** is added to the datasets.\n",
        "\n",
        "And once we are done with the manipulation part, we'll let the manipulated dataset pass through the *Non-Linear Function*. The *Non-Linear function* is some s-shaped function which we'll be using for classifying the data.\n",
        "\n",
        "For example, assume that the numbers you have in your dataset are too large for your model to perform regression. In such cases, you can simply use some *Non-Linear function* like the **Sigmoid Function**(*which is popularly used for binary classification of data*) to make the numbers more meaningful for your regression model. And finally, you can now perform your regression.\n",
        "This **Sigmoid function** is so important that it is also used in designing neural networks."
      ]
    },
    {
      "cell_type": "code",
      "metadata": {
        "id": "9JU9fTOP0jaL",
        "colab_type": "code",
        "colab": {}
      },
      "source": [
        "import matplotlib.pyplot as plt\n",
        "import math \n",
        "from sklearn import datasets\n",
        "def sigmoid(z):\n",
        "  return 1.0/(1 + math.e ** (-z))\n",
        "\n",
        "x = [i * 0.1 for i in range(-99, 100)]\n",
        "y = [sigmoid(z) for z in x]\n",
        "plt.plot(x, y)\n",
        "plt.xlabel('x')\n",
        "plt.ylabel('y')\n",
        "plt.title('Logistic Sigmoid')"
      ],
      "execution_count": 0,
      "outputs": []
    },
    {
      "cell_type": "code",
      "metadata": {
        "id": "w3xs0rx1S9wh",
        "colab_type": "code",
        "colab": {}
      },
      "source": [
        "print(iris.DESCR) #Plz do read the description of the data before you actually start working on the dataset"
      ],
      "execution_count": 0,
      "outputs": []
    },
    {
      "cell_type": "code",
      "metadata": {
        "id": "W1veImK7RU_q",
        "colab_type": "code",
        "colab": {}
      },
      "source": [
        "iris= datasets.load_iris()\n",
        "print(iris.data)\n"
      ],
      "execution_count": 0,
      "outputs": []
    },
    {
      "cell_type": "code",
      "metadata": {
        "id": "PLfQQFP2SRZ3",
        "colab_type": "code",
        "colab": {}
      },
      "source": [
        "#Printing the categories of iris\n",
        "print(iris.target_names)"
      ],
      "execution_count": 0,
      "outputs": []
    },
    {
      "cell_type": "markdown",
      "metadata": {
        "id": "SYaf62ZMTPLS",
        "colab_type": "text"
      },
      "source": [
        "#**Prediction Function**\n",
        "\n",
        "This function takes one sample, multiplies by the weights, adds a bias, and passes the sum through a Sigmoid function. This function will be used to determine weights and biases during training as well as make predictions after training is complete."
      ]
    },
    {
      "cell_type": "code",
      "metadata": {
        "id": "UOC_-5l7TOuY",
        "colab_type": "code",
        "colab": {}
      },
      "source": [
        "def predict(sample):\n",
        "  result  = 0.0\n",
        "  for i in range(len(sample)):\n",
        "    result = result + weights[i] * sample[i]\n",
        "  result = result + bias\n",
        "  return sigmoid(result)\n"
      ],
      "execution_count": 0,
      "outputs": []
    },
    {
      "cell_type": "markdown",
      "metadata": {
        "id": "SWzzuSuRXVcD",
        "colab_type": "text"
      },
      "source": [
        "#**Loss And Cost Functions**\n",
        "\n",
        "The loss function compares the predicted output with the expected output for a single training sample. If the absolute difference between the predicted and expected output is high, the loss should be high. The loss function here is a bit more complicated than a simple difference between predicted output and expected output, because it is known to make training easier.\n",
        "\n",
        "$$\\mathcal L(y, \\hat y) = -(y \\log \\hat y + (1-y) \\log (1 - \\hat y))$$\n",
        "\n",
        "Where $\\mathcal L$ is the loss, $y$ is the training sample or ground truth, and $\\hat y$ is the predicted value from the model.\n"
      ]
    },
    {
      "cell_type": "code",
      "metadata": {
        "id": "OIXjU2YGXee0",
        "colab_type": "code",
        "colab": {}
      },
      "source": [
        "def loss(y_train,yp):\n",
        "  return -(y_train*math.log(yp)+((1-y_train)*math.log(1-yp)))"
      ],
      "execution_count": 0,
      "outputs": []
    },
    {
      "cell_type": "markdown",
      "metadata": {
        "id": "SugCuxeLYCgA",
        "colab_type": "text"
      },
      "source": [
        "We can see how this function behaves for a fixed training value and a range of predicted values."
      ]
    },
    {
      "cell_type": "code",
      "metadata": {
        "id": "R6KBu3OuX8EM",
        "colab_type": "code",
        "outputId": "d1c9dbc4-7681-44d7-f5e4-262137554d90",
        "colab": {
          "base_uri": "https://localhost:8080/",
          "height": 279
        }
      },
      "source": [
        "y_train=0.876\n",
        "x=[i*0.1 for i in range(1,9)]\n",
        "y=[loss(y_train,yp) for yp in x]\n",
        "plt.plot(x,y)\n",
        "plt.xlabel('x')\n",
        "plt.ylabel('loss')\n",
        "plt.show()"
      ],
      "execution_count": 0,
      "outputs": [
        {
          "output_type": "display_data",
          "data": {
            "image/png": "[encoded data removed]",
            "text/plain": [
              "<Figure size 432x288 with 1 Axes>"
            ]
          },
          "metadata": {
            "tags": [],
            "needs_background": "light"
          }
        }
      ]
    },
    {
      "cell_type": "markdown",
      "metadata": {
        "id": "wynvOeEfY-7T",
        "colab_type": "text"
      },
      "source": [
        "The cost function is the average of the loss over all training samples:\n",
        "\n",
        "$$\\mathcal J = \\frac{1}{m} \\sum_{i=0}^{m} \\mathcal L(y, \\hat y)$$"
      ]
    },
    {
      "cell_type": "markdown",
      "metadata": {
        "id": "uoXMw3DwNCGh",
        "colab_type": "text"
      },
      "source": [
        "#**Gradient Descent**"
      ]
    },
    {
      "cell_type": "markdown",
      "metadata": {
        "id": "cnDUNanaNVTe",
        "colab_type": "text"
      },
      "source": [
        "Gradient descent attempts to minimize the cost function by iteratively adjusting weights and biases in the direction of lower cost. This achieved by computing the derivative (gradient) or slope of the cost function for each of the weights and biases.\n",
        "\n",
        "The general equations are\n",
        "\n",
        "$$w_{k+1} = w_{k} - \\alpha \\frac{\\partial \\mathcal J}{\\partial w}$$$$b_{k+1} = b_{k} - \\alpha \\frac{\\partial \\mathcal J}{\\partial b}$$\n",
        "Where $w_{k}$ and $b_{k}$ are the current values of weights and biases, and $w_{k+}$ and $b_{k+1}$ are the next values after one iteration. The number $\\alpha$ is the learning rate, which is a tuning parameter or hyperparameter. If the learning rate is too small, it will take longer to train, whereas too large of a training value might result in wild oscillations that never converge on an optimum solution.\n",
        "\n",
        "To picture how this works, let's consider an example in two dimensions:\n",
        "\n",
        "$$y = x^2 + \\frac{x}{2}$$"
      ]
    },
    {
      "cell_type": "code",
      "metadata": {
        "id": "szvnORLKNA0n",
        "colab_type": "code",
        "colab": {
          "base_uri": "https://localhost:8080/",
          "height": 295
        },
        "outputId": "a6091ffc-6822-4887-98a2-fc09828b7b77"
      },
      "source": [
        "# First let's graph the above mentioned function y=f(x) and then use the Gradient Descent method.\n",
        "# That function is clearly a parabola.\n",
        "def parabola(x):\n",
        "  return (x**2+(x/2.0))\n",
        "xi=[0.1*i for i in range(-29,30)]\n",
        "yi=[parabola(xk) for xk in xi]\n",
        "plt.plot(xi,yi)\n",
        "plt.xlabel(\"x\")\n",
        "plt.ylabel(\"f(x)\")\n",
        "plt.title(\"Parabolic curve\")\n",
        "plt.show()"
      ],
      "execution_count": 14,
      "outputs": [
        {
          "output_type": "display_data",
          "data": {
            "image/png": "[encoded data removed]",
            "text/plain": [
              "<Figure size 432x288 with 1 Axes>"
            ]
          },
          "metadata": {
            "tags": [],
            "needs_background": "light"
          }
        }
      ]
    },
    {
      "cell_type": "markdown",
      "metadata": {
        "id": "LrFLMRSVNZEj",
        "colab_type": "text"
      },
      "source": [
        "The above curve exactly fits the curve \n",
        "$$ y= x^2 + \\frac{x}{2} $$"
      ]
    },
    {
      "cell_type": "markdown",
      "metadata": {
        "id": "KA9W9m7hQSvw",
        "colab_type": "text"
      },
      "source": [
        "The first derivative, or the slope at any point $x$ is:\n",
        "\n",
        "$$\\frac{\\partial y}{\\partial x} = 2x + 0.5$$\n",
        "To find the minimum, iterate using this equation:\n",
        "\n",
        "$$x_{k+1} = x_{k} - \\alpha \\frac{\\partial y}{\\partial x}$$"
      ]
    },
    {
      "cell_type": "markdown",
      "metadata": {
        "id": "e4VFqHY0Qbz_",
        "colab_type": "text"
      },
      "source": [
        "The $\\alpha$ is known as the learning rate. Learning rate($\\alpha$) is generally used for tuning our model.The best is our $\\alpha$ the better would be the training process. Let's go to the code now."
      ]
    },
    {
      "cell_type": "code",
      "metadata": {
        "id": "gK7hO4-SQ9m6",
        "colab_type": "code",
        "colab": {
          "base_uri": "https://localhost:8080/",
          "height": 346
        },
        "outputId": "17fbe07d-51cd-469c-ae38-cd19da46d06d"
      },
      "source": [
        "x_k = 0.0\n",
        "\n",
        "learning_rate = 0.1\n",
        "\n",
        "def derivative(x):\n",
        "  return 2*x + 0.5\n",
        "\n",
        "for i in range(5):\n",
        "    gradient = derivative(x_k)\n",
        "    x_k = x_k - learning_rate*gradient\n",
        "\n",
        "print('Estimated minimum %0.2f, %0.2f' % (x_k, parabola(x_k)))\n",
        "print('Derivative (gradient) %0.2f' % gradient)\n",
        "\n",
        "x = [i * 0.1 for i in range(-10, 11)]\n",
        "y = [parabola(xi) for xi in x]\n",
        "plt.plot(x, y)\n",
        "plt.xlabel('x')\n",
        "plt.ylabel('y')\n",
        "plt.plot(x_k, parabola(x_k), 'ro')\n",
        "line_x = [x_k - 0.5, x_k + 0.5]\n",
        "line_y = [gradient*(xi-x_k)+parabola(x_k) for xi in line_x]\n",
        "plt.plot(line_x, line_y)\n",
        "plt.title('Simple function')"
      ],
      "execution_count": 18,
      "outputs": [
        {
          "output_type": "stream",
          "text": [
            "Estimated minimum -0.17, -0.06\n",
            "Derivative (gradient) 0.20\n"
          ],
          "name": "stdout"
        },
        {
          "output_type": "execute_result",
          "data": {
            "text/plain": [
              "Text(0.5, 1.0, 'Simple function')"
            ]
          },
          "metadata": {
            "tags": []
          },
          "execution_count": 18
        },
        {
          "output_type": "display_data",
          "data": {
            "image/png": "[encoded data removed]",
            "text/plain": [
              "<Figure size 432x288 with 1 Axes>"
            ]
          },
          "metadata": {
            "tags": [],
            "needs_background": "light"
          }
        }
      ]
    }
  ]
}