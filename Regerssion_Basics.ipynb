{
  "nbformat": 4,
  "nbformat_minor": 0,
  "metadata": {
    "colab": {
      "name": "Regerssion Basics.ipynb",
      "provenance": [],
      "authorship_tag": "ABX9TyO9KBFdulemMFxr3+HNWO9t",
      "include_colab_link": true
    },
    "kernelspec": {
      "name": "python3",
      "display_name": "Python 3"
    }
  },
  "cells": [
    {
      "cell_type": "markdown",
      "metadata": {
        "id": "view-in-github",
        "colab_type": "text"
      },
      "source": [
        "<a href=\"https://colab.research.google.com/github/YashasMessi02/Machine-learning/blob/master/Regerssion_Basics.ipynb\" target=\"_parent\"><img src=\"https://colab.research.google.com/assets/colab-badge.svg\" alt=\"Open In Colab\"/></a>"
      ]
    },
    {
      "cell_type": "markdown",
      "metadata": {
        "id": "jRbxcdWxVQfs",
        "colab_type": "text"
      },
      "source": [
        "*Copyright © YashasMessi02*"
      ]
    },
    {
      "cell_type": "markdown",
      "metadata": {
        "id": "HrdmdGM-LAT2",
        "colab_type": "text"
      },
      "source": [
        "#**Logistic Regression Model**\n",
        "![Perceptron](https://github.com/msiddalingaiah/MachineLearning/raw/ec817d3a9e53c764181233e991732017db37d9a1/Regression/images/perceptron75.png)\n",
        "\n",
        "The Inputs are the datasets that we use for creating a Regression Model. But most of the time the data sets we provide don't tend give the maximum accuracy that we expect. So our data needs some **manipulation** . And that's where the weights and biases come into picture. We usually multiply **weights** to the input datasets and finally a **Bias** is added to the datasets.\n",
        "\n",
        "And once we are done with the manipulation part, we'll let the manipulated dataset pass through the *Non-Linear Function*. The *Non-Linear function* is some s-shaped function which we'll be using for classifying the data.\n",
        "\n",
        "For example, assume that the numbers you have in your dataset are too large for your model to perform regression. In such cases, you can simply use some *Non-Linear function* like the **Sigmoid Function**(*which is popularly used for binary classification of data*) to make the numbers more meaningful for your regression model. And finally, you can now perform your regression.\n",
        "This **Sigmoid function** is so important that it is also used in designing neural networks."
      ]
    },
    {
      "cell_type": "code",
      "metadata": {
        "id": "9JU9fTOP0jaL",
        "colab_type": "code",
        "colab": {}
      },
      "source": [
        "import matplotlib.pyplot as plt\n",
        "import math \n",
        "from sklearn import datasets\n",
        "def sigmoid(z):\n",
        "  return 1.0/(1 + math.e ** (-z))\n",
        "\n",
        "x = [i * 0.1 for i in range(-99, 100)]\n",
        "y = [sigmoid(z) for z in x]\n",
        "plt.plot(x, y)\n",
        "plt.xlabel('x')\n",
        "plt.ylabel('y')\n",
        "plt.title('Logistic Sigmoid')"
      ],
      "execution_count": 0,
      "outputs": []
    },
    {
      "cell_type": "code",
      "metadata": {
        "id": "w3xs0rx1S9wh",
        "colab_type": "code",
        "colab": {}
      },
      "source": [
        "print(iris.DESCR) #Plz do read the description of the data before you actually start working on the dataset"
      ],
      "execution_count": 0,
      "outputs": []
    },
    {
      "cell_type": "code",
      "metadata": {
        "id": "W1veImK7RU_q",
        "colab_type": "code",
        "colab": {}
      },
      "source": [
        "iris= datasets.load_iris()\n",
        "print(iris.data)\n"
      ],
      "execution_count": 0,
      "outputs": []
    },
    {
      "cell_type": "code",
      "metadata": {
        "id": "PLfQQFP2SRZ3",
        "colab_type": "code",
        "colab": {}
      },
      "source": [
        "#Printing the categories of iris\n",
        "print(iris.target_names)"
      ],
      "execution_count": 0,
      "outputs": []
    },
    {
      "cell_type": "markdown",
      "metadata": {
        "id": "SYaf62ZMTPLS",
        "colab_type": "text"
      },
      "source": [
        "#**Prediction Function**\n",
        "\n",
        "This function takes one sample, multiplies by the weights, adds a bias, and passes the sum through a Sigmoid function. This function will be used to determine weights and biases during training as well as make predictions after training is complete."
      ]
    },
    {
      "cell_type": "code",
      "metadata": {
        "id": "UOC_-5l7TOuY",
        "colab_type": "code",
        "colab": {}
      },
      "source": [
        "def predict(sample):\n",
        "  result  = 0.0\n",
        "  for i in range(len(sample)):\n",
        "    result = result + weights[i] * sample[i]\n",
        "  result = result + bias\n",
        "  return sigmoid(result)\n"
      ],
      "execution_count": 0,
      "outputs": []
    },
    {
      "cell_type": "markdown",
      "metadata": {
        "id": "SWzzuSuRXVcD",
        "colab_type": "text"
      },
      "source": [
        "#**Loss And Cost Functions**\n",
        "\n",
        "The loss function compares the predicted output with the expected output for a single training sample. If the absolute difference between the predicted and expected output is high, the loss should be high. The loss function here is a bit more complicated than a simple difference between predicted output and expected output, because it is known to make training easier.\n",
        "\n",
        "$$\\mathcal L(y, \\hat y) = -(y \\log \\hat y + (1-y) \\log (1 - \\hat y))$$\n",
        "\n",
        "Where $\\mathcal L$ is the loss, $y$ is the training sample or ground truth, and $\\hat y$ is the predicted value from the model.\n"
      ]
    },
    {
      "cell_type": "code",
      "metadata": {
        "id": "OIXjU2YGXee0",
        "colab_type": "code",
        "colab": {}
      },
      "source": [
        "def loss(y_train,yp):\n",
        "  return -(y_train*math.log(yp)+((1-y_train)*math.log(1-yp)))"
      ],
      "execution_count": 0,
      "outputs": []
    },
    {
      "cell_type": "markdown",
      "metadata": {
        "id": "SugCuxeLYCgA",
        "colab_type": "text"
      },
      "source": [
        "We can see how this function behaves for a fixed training value and a range of predicted values."
      ]
    },
    {
      "cell_type": "code",
      "metadata": {
        "id": "R6KBu3OuX8EM",
        "colab_type": "code",
        "outputId": "d1c9dbc4-7681-44d7-f5e4-262137554d90",
        "colab": {
          "base_uri": "https://localhost:8080/",
          "height": 279
        }
      },
      "source": [
        "y_train=0.876\n",
        "x=[i*0.1 for i in range(1,9)]\n",
        "y=[loss(y_train,yp) for yp in x]\n",
        "plt.plot(x,y)\n",
        "plt.xlabel('x')\n",
        "plt.ylabel('loss')\n",
        "plt.show()"
      ],
      "execution_count": 0,
      "outputs": [
        {
          "output_type": "display_data",
          "data": {
            "image/png": "[encoded data removed]",
            "text/plain": [
              "<Figure size 432x288 with 1 Axes>"
            ]
          },
          "metadata": {
            "tags": [],
            "needs_background": "light"
          }
        }
      ]
    },
    {
      "cell_type": "markdown",
      "metadata": {
        "id": "wynvOeEfY-7T",
        "colab_type": "text"
      },
      "source": [
        "The cost function is the average of the loss over all training samples:\n",
        "\n",
        "$$\\mathcal J = \\frac{1}{m} \\sum_{i=0}^{m} \\mathcal L(y, \\hat y)$$"
      ]
    }
  ]
}